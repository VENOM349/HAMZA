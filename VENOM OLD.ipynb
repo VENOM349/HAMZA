{
 "cells": [
  {
   "cell_type": "code",
   "execution_count": 1,
   "id": "ef388c61",
   "metadata": {},
   "outputs": [],
   "source": [
    "# string # numeric\n",
    "# alphanumeric #Decimal numbers\n",
    "# float"
   ]
  },
  {
   "cell_type": "code",
   "execution_count": 2,
   "id": "0ac75132",
   "metadata": {},
   "outputs": [
    {
     "data": {
      "text/plain": [
       "'s'"
      ]
     },
     "execution_count": 2,
     "metadata": {},
     "output_type": "execute_result"
    }
   ],
   "source": [
    "'s'or\"s\""
   ]
  },
  {
   "cell_type": "code",
   "execution_count": 3,
   "id": "a6a19b40",
   "metadata": {},
   "outputs": [
    {
     "name": "stdout",
     "output_type": "stream",
     "text": [
      "hamza\n"
     ]
    }
   ],
   "source": [
    "print(\"hamza\")"
   ]
  },
  {
   "cell_type": "code",
   "execution_count": 4,
   "id": "c45124e2",
   "metadata": {},
   "outputs": [
    {
     "name": "stdout",
     "output_type": "stream",
     "text": [
      "12\n"
     ]
    }
   ],
   "source": [
    "print(12)"
   ]
  },
  {
   "cell_type": "code",
   "execution_count": 5,
   "id": "6932f49f",
   "metadata": {},
   "outputs": [
    {
     "name": "stdout",
     "output_type": "stream",
     "text": [
      "20.02\n"
     ]
    }
   ],
   "source": [
    "print(20.02)"
   ]
  },
  {
   "cell_type": "code",
   "execution_count": 6,
   "id": "21213cf9",
   "metadata": {},
   "outputs": [
    {
     "data": {
      "text/plain": [
       "str"
      ]
     },
     "execution_count": 6,
     "metadata": {},
     "output_type": "execute_result"
    }
   ],
   "source": [
    "type(\"Hamza\")"
   ]
  },
  {
   "cell_type": "code",
   "execution_count": 7,
   "id": "151b0270",
   "metadata": {},
   "outputs": [
    {
     "data": {
      "text/plain": [
       "int"
      ]
     },
     "execution_count": 7,
     "metadata": {},
     "output_type": "execute_result"
    }
   ],
   "source": [
    "type(20)"
   ]
  },
  {
   "cell_type": "code",
   "execution_count": 8,
   "id": "0b6ac002",
   "metadata": {},
   "outputs": [
    {
     "data": {
      "text/plain": [
       "float"
      ]
     },
     "execution_count": 8,
     "metadata": {},
     "output_type": "execute_result"
    }
   ],
   "source": [
    "type(0.02)"
   ]
  },
  {
   "cell_type": "code",
   "execution_count": 9,
   "id": "061075f9",
   "metadata": {},
   "outputs": [],
   "source": [
    "name = 'hamza'"
   ]
  },
  {
   "cell_type": "code",
   "execution_count": 10,
   "id": "424c72dc",
   "metadata": {},
   "outputs": [
    {
     "data": {
      "text/plain": [
       "'hamza'"
      ]
     },
     "execution_count": 10,
     "metadata": {},
     "output_type": "execute_result"
    }
   ],
   "source": [
    "name"
   ]
  },
  {
   "cell_type": "code",
   "execution_count": 11,
   "id": "f1a631db",
   "metadata": {},
   "outputs": [],
   "source": [
    "age = 15"
   ]
  },
  {
   "cell_type": "code",
   "execution_count": 12,
   "id": "fb41bcba",
   "metadata": {},
   "outputs": [
    {
     "data": {
      "text/plain": [
       "15"
      ]
     },
     "execution_count": 12,
     "metadata": {},
     "output_type": "execute_result"
    }
   ],
   "source": [
    "age"
   ]
  },
  {
   "cell_type": "code",
   "execution_count": 13,
   "id": "8002ce6d",
   "metadata": {},
   "outputs": [
    {
     "data": {
      "text/plain": [
       "int"
      ]
     },
     "execution_count": 13,
     "metadata": {},
     "output_type": "execute_result"
    }
   ],
   "source": [
    "type(age)"
   ]
  },
  {
   "cell_type": "code",
   "execution_count": 14,
   "id": "8a8b99da",
   "metadata": {},
   "outputs": [
    {
     "data": {
      "text/plain": [
       "20"
      ]
     },
     "execution_count": 14,
     "metadata": {},
     "output_type": "execute_result"
    }
   ],
   "source": [
    "age + 5"
   ]
  },
  {
   "cell_type": "code",
   "execution_count": 15,
   "id": "181d8287",
   "metadata": {},
   "outputs": [],
   "source": [
    "age = age + 5"
   ]
  },
  {
   "cell_type": "code",
   "execution_count": 16,
   "id": "e13a84b6",
   "metadata": {},
   "outputs": [
    {
     "data": {
      "text/plain": [
       "20"
      ]
     },
     "execution_count": 16,
     "metadata": {},
     "output_type": "execute_result"
    }
   ],
   "source": [
    "age"
   ]
  },
  {
   "cell_type": "code",
   "execution_count": 17,
   "id": "f56dc2a2",
   "metadata": {},
   "outputs": [],
   "source": [
    "age = age - 5"
   ]
  },
  {
   "cell_type": "code",
   "execution_count": 18,
   "id": "3594d31f",
   "metadata": {},
   "outputs": [
    {
     "data": {
      "text/plain": [
       "15"
      ]
     },
     "execution_count": 18,
     "metadata": {},
     "output_type": "execute_result"
    }
   ],
   "source": [
    "age"
   ]
  },
  {
   "cell_type": "code",
   "execution_count": 19,
   "id": "713db212",
   "metadata": {},
   "outputs": [],
   "source": [
    "age = age / 5"
   ]
  },
  {
   "cell_type": "code",
   "execution_count": 20,
   "id": "6c6a3c09",
   "metadata": {},
   "outputs": [
    {
     "data": {
      "text/plain": [
       "3.0"
      ]
     },
     "execution_count": 20,
     "metadata": {},
     "output_type": "execute_result"
    }
   ],
   "source": [
    "age"
   ]
  },
  {
   "cell_type": "code",
   "execution_count": 21,
   "id": "66e38a5c",
   "metadata": {},
   "outputs": [],
   "source": [
    "age = age * 5"
   ]
  },
  {
   "cell_type": "code",
   "execution_count": 22,
   "id": "5e7f0c0f",
   "metadata": {},
   "outputs": [
    {
     "data": {
      "text/plain": [
       "15.0"
      ]
     },
     "execution_count": 22,
     "metadata": {},
     "output_type": "execute_result"
    }
   ],
   "source": [
    "age"
   ]
  },
  {
   "cell_type": "code",
   "execution_count": 23,
   "id": "0494c7d6",
   "metadata": {},
   "outputs": [
    {
     "data": {
      "text/plain": [
       "float"
      ]
     },
     "execution_count": 23,
     "metadata": {},
     "output_type": "execute_result"
    }
   ],
   "source": [
    "type(age)"
   ]
  },
  {
   "cell_type": "code",
   "execution_count": 24,
   "id": "a2712268",
   "metadata": {},
   "outputs": [],
   "source": [
    "rose = 'flower'"
   ]
  },
  {
   "cell_type": "code",
   "execution_count": 25,
   "id": "ef965c38",
   "metadata": {},
   "outputs": [
    {
     "data": {
      "text/plain": [
       "'flower'"
      ]
     },
     "execution_count": 25,
     "metadata": {},
     "output_type": "execute_result"
    }
   ],
   "source": [
    "rose"
   ]
  },
  {
   "cell_type": "code",
   "execution_count": 26,
   "id": "90d8dbf7",
   "metadata": {},
   "outputs": [],
   "source": [
    "num = 10"
   ]
  },
  {
   "cell_type": "code",
   "execution_count": 27,
   "id": "3147dada",
   "metadata": {},
   "outputs": [
    {
     "data": {
      "text/plain": [
       "2"
      ]
     },
     "execution_count": 27,
     "metadata": {},
     "output_type": "execute_result"
    }
   ],
   "source": [
    "whats_left = num % 4\n",
    "whats_left"
   ]
  },
  {
   "cell_type": "code",
   "execution_count": 28,
   "id": "2897cc83",
   "metadata": {},
   "outputs": [],
   "source": [
    "num = 20"
   ]
  },
  {
   "cell_type": "code",
   "execution_count": 29,
   "id": "30991704",
   "metadata": {},
   "outputs": [],
   "source": [
    "num = num - 5"
   ]
  },
  {
   "cell_type": "code",
   "execution_count": 30,
   "id": "226c929a",
   "metadata": {},
   "outputs": [
    {
     "data": {
      "text/plain": [
       "15"
      ]
     },
     "execution_count": 30,
     "metadata": {},
     "output_type": "execute_result"
    }
   ],
   "source": [
    "num"
   ]
  },
  {
   "cell_type": "code",
   "execution_count": 31,
   "id": "80d17c19",
   "metadata": {},
   "outputs": [],
   "source": [
    "num += 5"
   ]
  },
  {
   "cell_type": "code",
   "execution_count": 32,
   "id": "facd4cf7",
   "metadata": {},
   "outputs": [
    {
     "data": {
      "text/plain": [
       "20"
      ]
     },
     "execution_count": 32,
     "metadata": {},
     "output_type": "execute_result"
    }
   ],
   "source": [
    "num"
   ]
  },
  {
   "cell_type": "code",
   "execution_count": 33,
   "id": "91cf8a86",
   "metadata": {},
   "outputs": [],
   "source": [
    "num -= 5"
   ]
  },
  {
   "cell_type": "code",
   "execution_count": 34,
   "id": "ef2ffb47",
   "metadata": {},
   "outputs": [
    {
     "data": {
      "text/plain": [
       "15"
      ]
     },
     "execution_count": 34,
     "metadata": {},
     "output_type": "execute_result"
    }
   ],
   "source": [
    "num"
   ]
  },
  {
   "cell_type": "code",
   "execution_count": 35,
   "id": "21db5cb6",
   "metadata": {},
   "outputs": [],
   "source": [
    "num *= 5"
   ]
  },
  {
   "cell_type": "code",
   "execution_count": 36,
   "id": "4dda8292",
   "metadata": {},
   "outputs": [
    {
     "data": {
      "text/plain": [
       "75"
      ]
     },
     "execution_count": 36,
     "metadata": {},
     "output_type": "execute_result"
    }
   ],
   "source": [
    "num"
   ]
  },
  {
   "cell_type": "code",
   "execution_count": 37,
   "id": "9fcbba06",
   "metadata": {},
   "outputs": [],
   "source": [
    "num /= 5"
   ]
  },
  {
   "cell_type": "code",
   "execution_count": 38,
   "id": "36686ee9",
   "metadata": {},
   "outputs": [
    {
     "data": {
      "text/plain": [
       "15.0"
      ]
     },
     "execution_count": 38,
     "metadata": {},
     "output_type": "execute_result"
    }
   ],
   "source": [
    "num"
   ]
  },
  {
   "cell_type": "code",
   "execution_count": 39,
   "id": "09dcc8a8",
   "metadata": {},
   "outputs": [],
   "source": [
    "cost = 1 + 3 * 4"
   ]
  },
  {
   "cell_type": "code",
   "execution_count": 40,
   "id": "cc8954dc",
   "metadata": {},
   "outputs": [
    {
     "data": {
      "text/plain": [
       "13"
      ]
     },
     "execution_count": 40,
     "metadata": {},
     "output_type": "execute_result"
    }
   ],
   "source": [
    "cost"
   ]
  },
  {
   "cell_type": "code",
   "execution_count": 41,
   "id": "864b2fbd",
   "metadata": {},
   "outputs": [],
   "source": [
    "cost = 1 + ( 3 * 4 )"
   ]
  },
  {
   "cell_type": "code",
   "execution_count": 42,
   "id": "3396a43f",
   "metadata": {},
   "outputs": [
    {
     "data": {
      "text/plain": [
       "13"
      ]
     },
     "execution_count": 42,
     "metadata": {},
     "output_type": "execute_result"
    }
   ],
   "source": [
    "cost"
   ]
  },
  {
   "cell_type": "code",
   "execution_count": 43,
   "id": "f943d099",
   "metadata": {},
   "outputs": [],
   "source": [
    "cost = 1 + 3 / 2 + 2"
   ]
  },
  {
   "cell_type": "code",
   "execution_count": 44,
   "id": "667ef2e5",
   "metadata": {},
   "outputs": [
    {
     "data": {
      "text/plain": [
       "4.5"
      ]
     },
     "execution_count": 44,
     "metadata": {},
     "output_type": "execute_result"
    }
   ],
   "source": [
    "cost"
   ]
  },
  {
   "cell_type": "code",
   "execution_count": 45,
   "id": "28c6fe63",
   "metadata": {},
   "outputs": [],
   "source": [
    "cost = 1 + 3 / 2 * ( 2 * 4 )"
   ]
  },
  {
   "cell_type": "code",
   "execution_count": 46,
   "id": "ecea3a65",
   "metadata": {},
   "outputs": [
    {
     "data": {
      "text/plain": [
       "13.0"
      ]
     },
     "execution_count": 46,
     "metadata": {},
     "output_type": "execute_result"
    }
   ],
   "source": [
    "cost"
   ]
  },
  {
   "cell_type": "code",
   "execution_count": 47,
   "id": "399b17ce",
   "metadata": {},
   "outputs": [],
   "source": [
    "cost = 1 + 3 // 2 * ( 2 * 4 )"
   ]
  },
  {
   "cell_type": "code",
   "execution_count": 48,
   "id": "7daee332",
   "metadata": {},
   "outputs": [
    {
     "data": {
      "text/plain": [
       "9"
      ]
     },
     "execution_count": 48,
     "metadata": {},
     "output_type": "execute_result"
    }
   ],
   "source": [
    "cost"
   ]
  },
  {
   "cell_type": "code",
   "execution_count": 49,
   "id": "63f24dd9",
   "metadata": {},
   "outputs": [
    {
     "data": {
      "text/plain": [
       "int"
      ]
     },
     "execution_count": 49,
     "metadata": {},
     "output_type": "execute_result"
    }
   ],
   "source": [
    "type(cost)"
   ]
  },
  {
   "cell_type": "code",
   "execution_count": 50,
   "id": "dd79af09",
   "metadata": {},
   "outputs": [
    {
     "name": "stdout",
     "output_type": "stream",
     "text": [
      "Hamzacongratulation\n"
     ]
    }
   ],
   "source": [
    "name = 'Hamza'\n",
    "greeting = 'congratulation'\n",
    "\n",
    "print(name + greeting)"
   ]
  },
  {
   "cell_type": "code",
   "execution_count": 51,
   "id": "f6dabdd4",
   "metadata": {},
   "outputs": [
    {
     "name": "stdout",
     "output_type": "stream",
     "text": [
      "Hamza congratulation\n"
     ]
    }
   ],
   "source": [
    "name = 'Hamza '\n",
    "greeting = 'congratulation'\n",
    "\n",
    "print(name + greeting)"
   ]
  },
  {
   "cell_type": "code",
   "execution_count": 52,
   "id": "0eda045f",
   "metadata": {},
   "outputs": [
    {
     "name": "stdout",
     "output_type": "stream",
     "text": [
      "Hamza congratulation\n"
     ]
    }
   ],
   "source": [
    "name = 'Hamza'\n",
    "greeting = 'congratulation'\n",
    "sep = ' '\n",
    "\n",
    "print(name + sep + greeting)"
   ]
  },
  {
   "cell_type": "code",
   "execution_count": 53,
   "id": "d6f15932",
   "metadata": {},
   "outputs": [],
   "source": [
    "age = 10"
   ]
  },
  {
   "cell_type": "code",
   "execution_count": 55,
   "id": "4f5db825",
   "metadata": {},
   "outputs": [
    {
     "name": "stdout",
     "output_type": "stream",
     "text": [
      "your age is 10\n"
     ]
    }
   ],
   "source": [
    "print(\"your age is \" + str(age))"
   ]
  },
  {
   "cell_type": "code",
   "execution_count": 56,
   "id": "b91e35a6",
   "metadata": {},
   "outputs": [
    {
     "data": {
      "text/plain": [
       "int"
      ]
     },
     "execution_count": 56,
     "metadata": {},
     "output_type": "execute_result"
    }
   ],
   "source": [
    "type(age)"
   ]
  },
  {
   "cell_type": "code",
   "execution_count": 57,
   "id": "35a50b85",
   "metadata": {},
   "outputs": [],
   "source": [
    "age = str(age)"
   ]
  },
  {
   "cell_type": "code",
   "execution_count": 58,
   "id": "56d6b7e0",
   "metadata": {},
   "outputs": [
    {
     "data": {
      "text/plain": [
       "str"
      ]
     },
     "execution_count": 58,
     "metadata": {},
     "output_type": "execute_result"
    }
   ],
   "source": [
    "type(age)"
   ]
  },
  {
   "cell_type": "code",
   "execution_count": 59,
   "id": "7c7d3f1d",
   "metadata": {},
   "outputs": [
    {
     "name": "stdout",
     "output_type": "stream",
     "text": [
      "your age is 10\n"
     ]
    }
   ],
   "source": [
    "print(\"your age is \" + age)"
   ]
  },
  {
   "cell_type": "code",
   "execution_count": 60,
   "id": "e16141f6",
   "metadata": {},
   "outputs": [],
   "source": [
    "age = \"4\""
   ]
  },
  {
   "cell_type": "code",
   "execution_count": 64,
   "id": "8bb400f4",
   "metadata": {},
   "outputs": [
    {
     "data": {
      "text/plain": [
       "4"
      ]
     },
     "execution_count": 64,
     "metadata": {},
     "output_type": "execute_result"
    }
   ],
   "source": [
    "int(age)"
   ]
  },
  {
   "cell_type": "code",
   "execution_count": 66,
   "id": "0b323767",
   "metadata": {},
   "outputs": [],
   "source": [
    "age = int(age)"
   ]
  },
  {
   "cell_type": "code",
   "execution_count": 67,
   "id": "384e4b86",
   "metadata": {},
   "outputs": [],
   "source": [
    "age = age + 2"
   ]
  },
  {
   "cell_type": "code",
   "execution_count": 68,
   "id": "f1bdb15c",
   "metadata": {},
   "outputs": [
    {
     "data": {
      "text/plain": [
       "6"
      ]
     },
     "execution_count": 68,
     "metadata": {},
     "output_type": "execute_result"
    }
   ],
   "source": [
    "age"
   ]
  },
  {
   "cell_type": "code",
   "execution_count": 69,
   "id": "38e0e878",
   "metadata": {},
   "outputs": [
    {
     "data": {
      "text/plain": [
       "int"
      ]
     },
     "execution_count": 69,
     "metadata": {},
     "output_type": "execute_result"
    }
   ],
   "source": [
    "type(age)"
   ]
  },
  {
   "cell_type": "code",
   "execution_count": 70,
   "id": "bba57803",
   "metadata": {},
   "outputs": [
    {
     "name": "stdout",
     "output_type": "stream",
     "text": [
      "The number is 4\n"
     ]
    }
   ],
   "source": [
    "num = 4\n",
    "\n",
    "if num == 4:\n",
    "    print(\"The number is 4\")"
   ]
  },
  {
   "cell_type": "code",
   "execution_count": 71,
   "id": "a055d4a9",
   "metadata": {},
   "outputs": [],
   "source": [
    "num = 5\n",
    "\n",
    "if num == 4:\n",
    "    print(\"The number is 4\")"
   ]
  },
  {
   "cell_type": "code",
   "execution_count": 72,
   "id": "81c2712d",
   "metadata": {
    "scrolled": true
   },
   "outputs": [
    {
     "name": "stdout",
     "output_type": "stream",
     "text": [
      "The number is not 4\n"
     ]
    }
   ],
   "source": [
    "num = 5\n",
    "\n",
    "if num == 4:\n",
    "    print(\"The number is 4\")\n",
    "    \n",
    "else:\n",
    "    print(\"The number is not 4\")"
   ]
  },
  {
   "cell_type": "code",
   "execution_count": 74,
   "id": "74d25559",
   "metadata": {},
   "outputs": [
    {
     "name": "stdout",
     "output_type": "stream",
     "text": [
      "The number is 5\n"
     ]
    }
   ],
   "source": [
    "num = 5\n",
    "\n",
    "if num == 4:\n",
    "    print(\"The number is 4\")\n",
    "    \n",
    "elif num == 5:\n",
    "    print(\"The number is 5\")\n",
    "    \n",
    "else:\n",
    "    print(\"The number is not 4\")\n"
   ]
  },
  {
   "cell_type": "code",
   "execution_count": 75,
   "id": "b52b0f6d",
   "metadata": {},
   "outputs": [
    {
     "name": "stdout",
     "output_type": "stream",
     "text": [
      "your package is gold,and you avail the discount of 20%\n"
     ]
    }
   ],
   "source": [
    "package = 'gold'\n",
    "\n",
    "if package == 'silver':\n",
    "    print(\"your package is silver,and you avail the discount of 10%\")\n",
    "    \n",
    "elif package == 'gold':\n",
    "    print(\"your package is gold,and you avail the discount of 20%\")\n",
    "    \n",
    "elif package == 'platinum':\n",
    "    print(\"your package is platinum,and you avail the discount of 40%\")\n",
    "    \n",
    "else:\n",
    "    print(\"your package is invalid\")"
   ]
  },
  {
   "cell_type": "code",
   "execution_count": 76,
   "id": "af6c6b41",
   "metadata": {},
   "outputs": [
    {
     "name": "stdout",
     "output_type": "stream",
     "text": [
      "your package is invalid\n"
     ]
    }
   ],
   "source": [
    "package = 'bronze'\n",
    "\n",
    "if package == 'silver':\n",
    "    print(\"your package is silver,and you avail the discount of 10%\")\n",
    "    \n",
    "elif package == 'gold':\n",
    "    print(\"your package is gold,and you avail the discount of 20%\")\n",
    "    \n",
    "elif package == 'platinum':\n",
    "    print(\"your package is platinum,and you avail the discount of 40%\")\n",
    "    \n",
    "else:\n",
    "    print(\"your package is invalid\")"
   ]
  },
  {
   "cell_type": "code",
   "execution_count": 78,
   "id": "b6bbbec7",
   "metadata": {},
   "outputs": [
    {
     "name": "stdout",
     "output_type": "stream",
     "text": [
      "congratulation you got B\n"
     ]
    }
   ],
   "source": [
    "marks = 500 \n",
    "\n",
    "obatain_marks = 300\n",
    "\n",
    "percentage = 300 / 5\n",
    "\n",
    "percentage = '60%'\n",
    "\n",
    "if percentage >= '80%':\n",
    "    print(\"congratulation you got A+\")\n",
    "    \n",
    "elif percentage >= '70%':\n",
    "    print(\"Congratulation you got A\")\n",
    "    \n",
    "elif percentage >= '60%':\n",
    "    print(\"congratulation you got B\")\n",
    "    \n",
    "elif percentage >= '50%':\n",
    "    print(\"Congratulation you got C\")\n",
    "    \n",
    "else:\n",
    "    print(\"you need to work hard you got D\")"
   ]
  },
  {
   "cell_type": "code",
   "execution_count": 17,
   "id": "4d25c88c",
   "metadata": {},
   "outputs": [
    {
     "name": "stdout",
     "output_type": "stream",
     "text": [
      "your age is less\n"
     ]
    }
   ],
   "source": [
    "\n",
    "age = 14\n",
    "\n",
    "if gender == 'male':\n",
    "    \n",
    "    if age >= 18:\n",
    "        print(\"your are eligible\")\n",
    "    \n",
    "    else:\n",
    "        print(\"your age is less\")\n",
    "        \n",
    "        \n",
    "        \n",
    "else:\n",
    "    print(\"your gender is not allowed\")"
   ]
  },
  {
   "cell_type": "code",
   "execution_count": 3,
   "id": "37344beb",
   "metadata": {},
   "outputs": [
    {
     "name": "stdout",
     "output_type": "stream",
     "text": [
      "['abc', 'xyz', 'def']\n"
     ]
    }
   ],
   "source": [
    "print(names)"
   ]
  },
  {
   "cell_type": "code",
   "execution_count": 4,
   "id": "f1da45b1",
   "metadata": {},
   "outputs": [
    {
     "name": "stdout",
     "output_type": "stream",
     "text": [
      "xyz\n"
     ]
    }
   ],
   "source": [
    "print(names[1])"
   ]
  },
  {
   "cell_type": "code",
   "execution_count": 5,
   "id": "180d14c5",
   "metadata": {},
   "outputs": [
    {
     "name": "stdout",
     "output_type": "stream",
     "text": [
      "abc\n"
     ]
    }
   ],
   "source": [
    "print(names[0])"
   ]
  },
  {
   "cell_type": "code",
   "execution_count": 10,
   "id": "6225707d",
   "metadata": {},
   "outputs": [],
   "source": [
    "numbers = [1 , 2 , 3 , 4 , 5 , 6 , 7 , 8 , 9 , 10]"
   ]
  },
  {
   "cell_type": "code",
   "execution_count": 11,
   "id": "c3cf018f",
   "metadata": {},
   "outputs": [
    {
     "data": {
      "text/plain": [
       "[3, 4, 5, 6, 7, 8, 9]"
      ]
     },
     "execution_count": 11,
     "metadata": {},
     "output_type": "execute_result"
    }
   ],
   "source": [
    "numbers[2 : 9]"
   ]
  },
  {
   "cell_type": "code",
   "execution_count": 12,
   "id": "3d159fc3",
   "metadata": {},
   "outputs": [],
   "source": [
    "# Adding Elements\n",
    "\n",
    "names.append('Hamza') #Append"
   ]
  },
  {
   "cell_type": "code",
   "execution_count": 13,
   "id": "1722ffad",
   "metadata": {},
   "outputs": [
    {
     "data": {
      "text/plain": [
       "['abc', 'xyz', 'def', 'Hamza']"
      ]
     },
     "execution_count": 13,
     "metadata": {},
     "output_type": "execute_result"
    }
   ],
   "source": [
    "names"
   ]
  },
  {
   "cell_type": "code",
   "execution_count": 14,
   "id": "d7292be0",
   "metadata": {},
   "outputs": [],
   "source": [
    "names = ['abc', 'xyz', 'def', 20 , 20.2 , 'Hamza']"
   ]
  },
  {
   "cell_type": "code",
   "execution_count": 15,
   "id": "3970e6b2",
   "metadata": {},
   "outputs": [],
   "source": [
    "names.insert(3 , 'RPA')"
   ]
  },
  {
   "cell_type": "code",
   "execution_count": 16,
   "id": "19d6a719",
   "metadata": {
    "scrolled": true
   },
   "outputs": [
    {
     "data": {
      "text/plain": [
       "['abc', 'xyz', 'def', 'RPA', 20, 20.2, 'Hamza']"
      ]
     },
     "execution_count": 16,
     "metadata": {},
     "output_type": "execute_result"
    }
   ],
   "source": [
    "names"
   ]
  },
  {
   "cell_type": "code",
   "execution_count": null,
   "id": "ce706855",
   "metadata": {},
   "outputs": [],
   "source": []
  }
 ],
 "metadata": {
  "kernelspec": {
   "display_name": "Python 3 (ipykernel)",
   "language": "python",
   "name": "python3"
  },
  "language_info": {
   "codemirror_mode": {
    "name": "ipython",
    "version": 3
   },
   "file_extension": ".py",
   "mimetype": "text/x-python",
   "name": "python",
   "nbconvert_exporter": "python",
   "pygments_lexer": "ipython3",
   "version": "3.9.12"
  }
 },
 "nbformat": 4,
 "nbformat_minor": 5
}
